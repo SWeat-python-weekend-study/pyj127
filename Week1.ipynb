{
  "nbformat": 4,
  "nbformat_minor": 0,
  "metadata": {
    "colab": {
      "name": "Week1.ipynb",
      "provenance": [],
      "collapsed_sections": [],
      "authorship_tag": "ABX9TyNcNfyfDW8ZTlaoNongIlJF",
      "include_colab_link": true
    },
    "kernelspec": {
      "name": "python3",
      "display_name": "Python 3"
    }
  },
  "cells": [
    {
      "cell_type": "markdown",
      "metadata": {
        "id": "view-in-github",
        "colab_type": "text"
      },
      "source": [
        "<a href=\"https://colab.research.google.com/github/SWeat-python-weekend-study/pyj127/blob/main/Week1.ipynb\" target=\"_parent\"><img src=\"https://colab.research.google.com/assets/colab-badge.svg\" alt=\"Open In Colab\"/></a>"
      ]
    },
    {
      "cell_type": "markdown",
      "metadata": {
        "id": "egHZfwWHTx4F"
      },
      "source": [
        "**리눅스 명령어**"
      ]
    },
    {
      "cell_type": "code",
      "metadata": {
        "colab": {
          "base_uri": "https://localhost:8080/"
        },
        "id": "Nm4IvRRQMsbS",
        "outputId": "82816653-6d79-4a57-da45-6379ee955aad"
      },
      "source": [
        "!pwd"
      ],
      "execution_count": 3,
      "outputs": [
        {
          "output_type": "stream",
          "text": [
            "/content\n"
          ],
          "name": "stdout"
        }
      ]
    },
    {
      "cell_type": "code",
      "metadata": {
        "colab": {
          "base_uri": "https://localhost:8080/"
        },
        "id": "x951TjBiTeL9",
        "outputId": "539f6d76-2cb5-4abc-c7b1-ee4540a110ac"
      },
      "source": [
        "!ls"
      ],
      "execution_count": 4,
      "outputs": [
        {
          "output_type": "stream",
          "text": [
            "sample_data\n"
          ],
          "name": "stdout"
        }
      ]
    },
    {
      "cell_type": "code",
      "metadata": {
        "colab": {
          "base_uri": "https://localhost:8080/"
        },
        "id": "zFAujICTTqfB",
        "outputId": "d7eb90d1-c36d-4ef8-8414-1505f7e0d8f7"
      },
      "source": [
        "cd sample_data/"
      ],
      "execution_count": 8,
      "outputs": [
        {
          "output_type": "stream",
          "text": [
            "/content/sample_data\n"
          ],
          "name": "stdout"
        }
      ]
    },
    {
      "cell_type": "code",
      "metadata": {
        "colab": {
          "base_uri": "https://localhost:8080/"
        },
        "id": "EqS5ZDHVUXZn",
        "outputId": "83c20f02-aeca-4d44-d74d-a59fbb901b92"
      },
      "source": [
        "!ls"
      ],
      "execution_count": 9,
      "outputs": [
        {
          "output_type": "stream",
          "text": [
            "anscombe.json\t\t      mnist_test.csv\n",
            "california_housing_test.csv   mnist_train_small.csv\n",
            "california_housing_train.csv  README.md\n"
          ],
          "name": "stdout"
        }
      ]
    },
    {
      "cell_type": "markdown",
      "metadata": {
        "id": "B1_VELMoU5pZ"
      },
      "source": [
        "**1. iterator**\r\n",
        "- **iterable**: 반복 가능한 객체  \r\n",
        "  ex) 문자열, 리스트, 딕셔너리, 집합  \r\n",
        "  - 요소가 여러 개 들어 있고, 한 번에 하나씩 꺼낼 수 있는 객체  \r\n",
        "  - 내부적으로 \\_\\_iter__ 메소드를 포함   \r\n",
        "  \\_\\_iter__(): iterator 생성 메소드    \r\n",
        "- **iterator**: 값을 차례대로 꺼낼 수 있는 객체(object) _ 반복자  \r\n"
      ]
    },
    {
      "cell_type": "code",
      "metadata": {
        "id": "t7nZGfWOUZIo"
      },
      "source": [
        "dir([1, 2, 3])"
      ],
      "execution_count": null,
      "outputs": []
    },
    {
      "cell_type": "code",
      "metadata": {
        "colab": {
          "base_uri": "https://localhost:8080/"
        },
        "id": "Q6FopDC0VUvD",
        "outputId": "39317606-7cff-4fee-d7fb-c14385f3e7d7"
      },
      "source": [
        "[1, 2, 3].__iter__()"
      ],
      "execution_count": 11,
      "outputs": [
        {
          "output_type": "execute_result",
          "data": {
            "text/plain": [
              "<list_iterator at 0x7f3c9271f080>"
            ]
          },
          "metadata": {
            "tags": []
          },
          "execution_count": 11
        }
      ]
    },
    {
      "cell_type": "code",
      "metadata": {
        "id": "5KXnsSFUWfZD"
      },
      "source": [
        "it = [1, 2, 3].__iter__()"
      ],
      "execution_count": 12,
      "outputs": []
    },
    {
      "cell_type": "code",
      "metadata": {
        "colab": {
          "base_uri": "https://localhost:8080/"
        },
        "id": "9_6ZbH9OWvGy",
        "outputId": "75c071e8-1f77-4b72-9986-884ba4d6d119"
      },
      "source": [
        "it.__next__()"
      ],
      "execution_count": 13,
      "outputs": [
        {
          "output_type": "execute_result",
          "data": {
            "text/plain": [
              "1"
            ]
          },
          "metadata": {
            "tags": []
          },
          "execution_count": 13
        }
      ]
    },
    {
      "cell_type": "code",
      "metadata": {
        "colab": {
          "base_uri": "https://localhost:8080/"
        },
        "id": "_RyaAgBcWwrn",
        "outputId": "7b9dcef2-aca8-4e16-f6e0-56e3ee1694e3"
      },
      "source": [
        "it.__next__()"
      ],
      "execution_count": 14,
      "outputs": [
        {
          "output_type": "execute_result",
          "data": {
            "text/plain": [
              "2"
            ]
          },
          "metadata": {
            "tags": []
          },
          "execution_count": 14
        }
      ]
    },
    {
      "cell_type": "code",
      "metadata": {
        "colab": {
          "base_uri": "https://localhost:8080/"
        },
        "id": "B8Mgr5OAWyC1",
        "outputId": "5888243e-ef95-4980-c71c-517af1a03808"
      },
      "source": [
        "it.__next__()"
      ],
      "execution_count": 15,
      "outputs": [
        {
          "output_type": "execute_result",
          "data": {
            "text/plain": [
              "3"
            ]
          },
          "metadata": {
            "tags": []
          },
          "execution_count": 15
        }
      ]
    },
    {
      "cell_type": "code",
      "metadata": {
        "colab": {
          "base_uri": "https://localhost:8080/",
          "height": 169
        },
        "id": "S4F9KeGMWz54",
        "outputId": "79e59097-f708-4393-e975-40b34bf27074"
      },
      "source": [
        "it.__next__()"
      ],
      "execution_count": 16,
      "outputs": [
        {
          "output_type": "error",
          "ename": "StopIteration",
          "evalue": "ignored",
          "traceback": [
            "\u001b[0;31m---------------------------------------------------------------------------\u001b[0m",
            "\u001b[0;31mStopIteration\u001b[0m                             Traceback (most recent call last)",
            "\u001b[0;32m<ipython-input-16-74e64ed6c80d>\u001b[0m in \u001b[0;36m<module>\u001b[0;34m()\u001b[0m\n\u001b[0;32m----> 1\u001b[0;31m \u001b[0mit\u001b[0m\u001b[0;34m.\u001b[0m\u001b[0m__next__\u001b[0m\u001b[0;34m(\u001b[0m\u001b[0;34m)\u001b[0m\u001b[0;34m\u001b[0m\u001b[0;34m\u001b[0m\u001b[0m\n\u001b[0m",
            "\u001b[0;31mStopIteration\u001b[0m: "
          ]
        }
      ]
    },
    {
      "cell_type": "code",
      "metadata": {
        "colab": {
          "base_uri": "https://localhost:8080/"
        },
        "id": "fzha1Q_eW1IP",
        "outputId": "58845c71-f2ae-41e7-ba9f-597caae0314d"
      },
      "source": [
        "'Hello, world!'.__iter__()"
      ],
      "execution_count": 17,
      "outputs": [
        {
          "output_type": "execute_result",
          "data": {
            "text/plain": [
              "<str_iterator at 0x7f3c9271f400>"
            ]
          },
          "metadata": {
            "tags": []
          },
          "execution_count": 17
        }
      ]
    },
    {
      "cell_type": "code",
      "metadata": {
        "colab": {
          "base_uri": "https://localhost:8080/"
        },
        "id": "fdOjxxGHW_ip",
        "outputId": "f294ae78-96f0-41c4-f633-9da72483140f"
      },
      "source": [
        "{'a': 1, 'b': 2}.__iter__()"
      ],
      "execution_count": 18,
      "outputs": [
        {
          "output_type": "execute_result",
          "data": {
            "text/plain": [
              "<dict_keyiterator at 0x7f3c8ab7f548>"
            ]
          },
          "metadata": {
            "tags": []
          },
          "execution_count": 18
        }
      ]
    },
    {
      "cell_type": "code",
      "metadata": {
        "colab": {
          "base_uri": "https://localhost:8080/"
        },
        "id": "QVO0Gzp8XCjg",
        "outputId": "a85148e1-8701-4a33-ab4e-8c39785859c2"
      },
      "source": [
        "{1, 2, 3}.__iter__()"
      ],
      "execution_count": 19,
      "outputs": [
        {
          "output_type": "execute_result",
          "data": {
            "text/plain": [
              "<set_iterator at 0x7f3c8abcda68>"
            ]
          },
          "metadata": {
            "tags": []
          },
          "execution_count": 19
        }
      ]
    },
    {
      "cell_type": "code",
      "metadata": {
        "id": "1iaQpXn5XEHD"
      },
      "source": [
        "it = range(3).__iter__()"
      ],
      "execution_count": 20,
      "outputs": []
    },
    {
      "cell_type": "code",
      "metadata": {
        "colab": {
          "base_uri": "https://localhost:8080/"
        },
        "id": "9U0-zbRvXO2z",
        "outputId": "facda5dc-000f-4fe3-e717-ef81463127d1"
      },
      "source": [
        "it.__next__()"
      ],
      "execution_count": 21,
      "outputs": [
        {
          "output_type": "execute_result",
          "data": {
            "text/plain": [
              "0"
            ]
          },
          "metadata": {
            "tags": []
          },
          "execution_count": 21
        }
      ]
    },
    {
      "cell_type": "code",
      "metadata": {
        "colab": {
          "base_uri": "https://localhost:8080/"
        },
        "id": "cXAVpOgYXQDC",
        "outputId": "0803b1c0-e0aa-4256-975f-ac65a236b224"
      },
      "source": [
        "it.__next__()"
      ],
      "execution_count": 22,
      "outputs": [
        {
          "output_type": "execute_result",
          "data": {
            "text/plain": [
              "1"
            ]
          },
          "metadata": {
            "tags": []
          },
          "execution_count": 22
        }
      ]
    },
    {
      "cell_type": "code",
      "metadata": {
        "colab": {
          "base_uri": "https://localhost:8080/"
        },
        "id": "vX2Cl0mrXQ0R",
        "outputId": "5d60e8af-2d95-4e5c-ccfb-db651b4026ac"
      },
      "source": [
        "it.__next__()"
      ],
      "execution_count": 23,
      "outputs": [
        {
          "output_type": "execute_result",
          "data": {
            "text/plain": [
              "2"
            ]
          },
          "metadata": {
            "tags": []
          },
          "execution_count": 23
        }
      ]
    },
    {
      "cell_type": "code",
      "metadata": {
        "colab": {
          "base_uri": "https://localhost:8080/",
          "height": 169
        },
        "id": "ucDKOEZwXRx9",
        "outputId": "bcfa5ccf-06e3-4755-dcd7-44f0ba1ac17c"
      },
      "source": [
        "it.__next__()"
      ],
      "execution_count": 24,
      "outputs": [
        {
          "output_type": "error",
          "ename": "StopIteration",
          "evalue": "ignored",
          "traceback": [
            "\u001b[0;31m---------------------------------------------------------------------------\u001b[0m",
            "\u001b[0;31mStopIteration\u001b[0m                             Traceback (most recent call last)",
            "\u001b[0;32m<ipython-input-24-74e64ed6c80d>\u001b[0m in \u001b[0;36m<module>\u001b[0;34m()\u001b[0m\n\u001b[0;32m----> 1\u001b[0;31m \u001b[0mit\u001b[0m\u001b[0;34m.\u001b[0m\u001b[0m__next__\u001b[0m\u001b[0;34m(\u001b[0m\u001b[0;34m)\u001b[0m\u001b[0;34m\u001b[0m\u001b[0;34m\u001b[0m\u001b[0m\n\u001b[0m",
            "\u001b[0;31mStopIteration\u001b[0m: "
          ]
        }
      ]
    },
    {
      "cell_type": "code",
      "metadata": {
        "id": "HFCwKGWIXS97"
      },
      "source": [
        "A = iter('hello')"
      ],
      "execution_count": 25,
      "outputs": []
    },
    {
      "cell_type": "code",
      "metadata": {
        "colab": {
          "base_uri": "https://localhost:8080/",
          "height": 35
        },
        "id": "gZRhxCqCX7xA",
        "outputId": "667ea47a-bc79-4029-eaf0-78151ce816a1"
      },
      "source": [
        "next(A)"
      ],
      "execution_count": 26,
      "outputs": [
        {
          "output_type": "execute_result",
          "data": {
            "application/vnd.google.colaboratory.intrinsic+json": {
              "type": "string"
            },
            "text/plain": [
              "'h'"
            ]
          },
          "metadata": {
            "tags": []
          },
          "execution_count": 26
        }
      ]
    },
    {
      "cell_type": "code",
      "metadata": {
        "colab": {
          "base_uri": "https://localhost:8080/",
          "height": 35
        },
        "id": "VuXKvXIdX8Zf",
        "outputId": "8e736948-44ca-43cb-a4bb-f7dfe12b5aa5"
      },
      "source": [
        "next(A)"
      ],
      "execution_count": 27,
      "outputs": [
        {
          "output_type": "execute_result",
          "data": {
            "application/vnd.google.colaboratory.intrinsic+json": {
              "type": "string"
            },
            "text/plain": [
              "'e'"
            ]
          },
          "metadata": {
            "tags": []
          },
          "execution_count": 27
        }
      ]
    },
    {
      "cell_type": "code",
      "metadata": {
        "colab": {
          "base_uri": "https://localhost:8080/",
          "height": 35
        },
        "id": "EpmWfxEcX9Ry",
        "outputId": "f25f92b3-5777-43e0-fbce-a041ffacb98e"
      },
      "source": [
        "next(A)"
      ],
      "execution_count": 28,
      "outputs": [
        {
          "output_type": "execute_result",
          "data": {
            "application/vnd.google.colaboratory.intrinsic+json": {
              "type": "string"
            },
            "text/plain": [
              "'l'"
            ]
          },
          "metadata": {
            "tags": []
          },
          "execution_count": 28
        }
      ]
    },
    {
      "cell_type": "code",
      "metadata": {
        "colab": {
          "base_uri": "https://localhost:8080/",
          "height": 35
        },
        "id": "gMG57GIPX-lO",
        "outputId": "af0a74dd-2621-479e-bd38-d8c9e2dbd699"
      },
      "source": [
        "next(A)"
      ],
      "execution_count": 29,
      "outputs": [
        {
          "output_type": "execute_result",
          "data": {
            "application/vnd.google.colaboratory.intrinsic+json": {
              "type": "string"
            },
            "text/plain": [
              "'l'"
            ]
          },
          "metadata": {
            "tags": []
          },
          "execution_count": 29
        }
      ]
    },
    {
      "cell_type": "code",
      "metadata": {
        "colab": {
          "base_uri": "https://localhost:8080/",
          "height": 35
        },
        "id": "nELM2N8_X_ap",
        "outputId": "02cfe142-e1b1-439b-b7fa-c0a289ccafd3"
      },
      "source": [
        "next(A)"
      ],
      "execution_count": 30,
      "outputs": [
        {
          "output_type": "execute_result",
          "data": {
            "application/vnd.google.colaboratory.intrinsic+json": {
              "type": "string"
            },
            "text/plain": [
              "'o'"
            ]
          },
          "metadata": {
            "tags": []
          },
          "execution_count": 30
        }
      ]
    },
    {
      "cell_type": "markdown",
      "metadata": {
        "id": "4b0iH5r9YA-Q"
      },
      "source": [
        "**2. Generator**\r\n",
        "- **Generator**: iterator를 생성해주는 함수\r\n",
        "- Generator는 함수 안에서 *yield*라는 키워드만 사용하면 끝. 훨씬 간단\r\n",
        " - Generator 객체에서 \\_\\_next__ 메소드를 호출할 때마다 함수 안의 yield까지 코드를 실행하며 yield에서 값을 발생시킴"
      ]
    },
    {
      "cell_type": "code",
      "metadata": {
        "colab": {
          "base_uri": "https://localhost:8080/"
        },
        "id": "zv5y84pFYASJ",
        "outputId": "968bee76-aefc-4414-9aba-42af75ac07a7"
      },
      "source": [
        "def number_generator():\r\n",
        "  yield 0\r\n",
        "  yield 1\r\n",
        "  yield 2\r\n",
        "\r\n",
        "for i in number_generator():\r\n",
        "  print(i)"
      ],
      "execution_count": 31,
      "outputs": [
        {
          "output_type": "stream",
          "text": [
            "0\n",
            "1\n",
            "2\n"
          ],
          "name": "stdout"
        }
      ]
    },
    {
      "cell_type": "code",
      "metadata": {
        "colab": {
          "base_uri": "https://localhost:8080/"
        },
        "id": "nhIZ8aGKYdiV",
        "outputId": "98b57f40-02fe-4a4a-da44-0656e85af5d8"
      },
      "source": [
        "def g ():\r\n",
        "  print('one')\r\n",
        "  yield 1   #첫번째 next 호출 시 여기까지 처리\r\n",
        "  print('two')\r\n",
        "  yield 2   #두번째 next 호출 시 여기까지 처리\r\n",
        "  print('three')\r\n",
        "  yield 3   #세번째 next 호출 시 여기까지 처리\r\n",
        "\r\n",
        "_ = g()     #_: 파이썬에서의 임시 변수\r\n",
        "next(_)\r\n",
        "next(_)\r\n",
        "next(_)"
      ],
      "execution_count": 32,
      "outputs": [
        {
          "output_type": "stream",
          "text": [
            "one\n",
            "two\n",
            "three\n"
          ],
          "name": "stdout"
        },
        {
          "output_type": "execute_result",
          "data": {
            "text/plain": [
              "3"
            ]
          },
          "metadata": {
            "tags": []
          },
          "execution_count": 32
        }
      ]
    },
    {
      "cell_type": "code",
      "metadata": {
        "colab": {
          "base_uri": "https://localhost:8080/"
        },
        "id": "1m0gyAu0Yfp1",
        "outputId": "412e211a-4f33-4ecc-98bd-47962d65b8a4"
      },
      "source": [
        "x = g()\r\n",
        "next(x)"
      ],
      "execution_count": 34,
      "outputs": [
        {
          "output_type": "stream",
          "text": [
            "one\n"
          ],
          "name": "stdout"
        },
        {
          "output_type": "execute_result",
          "data": {
            "text/plain": [
              "1"
            ]
          },
          "metadata": {
            "tags": []
          },
          "execution_count": 34
        }
      ]
    },
    {
      "cell_type": "code",
      "metadata": {
        "colab": {
          "base_uri": "https://localhost:8080/"
        },
        "id": "S91u3t5KZTPd",
        "outputId": "54a41461-5cf5-4976-a338-64a4efd9a1f3"
      },
      "source": [
        "next(x)"
      ],
      "execution_count": 35,
      "outputs": [
        {
          "output_type": "stream",
          "text": [
            "two\n"
          ],
          "name": "stdout"
        },
        {
          "output_type": "execute_result",
          "data": {
            "text/plain": [
              "2"
            ]
          },
          "metadata": {
            "tags": []
          },
          "execution_count": 35
        }
      ]
    },
    {
      "cell_type": "code",
      "metadata": {
        "colab": {
          "base_uri": "https://localhost:8080/"
        },
        "id": "nh3HfhgPZU-P",
        "outputId": "c6443ee5-f09c-4228-f717-da8584c1b49d"
      },
      "source": [
        "next(x)"
      ],
      "execution_count": 36,
      "outputs": [
        {
          "output_type": "stream",
          "text": [
            "three\n"
          ],
          "name": "stdout"
        },
        {
          "output_type": "execute_result",
          "data": {
            "text/plain": [
              "3"
            ]
          },
          "metadata": {
            "tags": []
          },
          "execution_count": 36
        }
      ]
    },
    {
      "cell_type": "code",
      "metadata": {
        "colab": {
          "base_uri": "https://localhost:8080/"
        },
        "id": "nMNaiDVLZVuk",
        "outputId": "abea794e-fd27-46e1-c32f-ae601890477f"
      },
      "source": [
        "#반복문 처리 시 활용\r\n",
        "def g():\r\n",
        "  A = [1,2,3,4,5]\r\n",
        "  for _ in A:\r\n",
        "    yield _\r\n",
        "\r\n",
        "for _ in g():\r\n",
        "  print( _ * 2)"
      ],
      "execution_count": 37,
      "outputs": [
        {
          "output_type": "stream",
          "text": [
            "2\n",
            "4\n",
            "6\n",
            "8\n",
            "10\n"
          ],
          "name": "stdout"
        }
      ]
    },
    {
      "cell_type": "code",
      "metadata": {
        "colab": {
          "base_uri": "https://localhost:8080/"
        },
        "id": "g-ztkwFNZr9k",
        "outputId": "9a41b273-f4d1-447a-bdc5-f87ac237de02"
      },
      "source": [
        "g = number_generator()\r\n",
        "g"
      ],
      "execution_count": 38,
      "outputs": [
        {
          "output_type": "execute_result",
          "data": {
            "text/plain": [
              "<generator object number_generator at 0x7f3c92790ca8>"
            ]
          },
          "metadata": {
            "tags": []
          },
          "execution_count": 38
        }
      ]
    },
    {
      "cell_type": "code",
      "metadata": {
        "colab": {
          "base_uri": "https://localhost:8080/"
        },
        "id": "6AMlSThfZ0Db",
        "outputId": "d70b7f6f-779f-4179-8f5a-9c27b97c4e5e"
      },
      "source": [
        "g.__next__()"
      ],
      "execution_count": 39,
      "outputs": [
        {
          "output_type": "execute_result",
          "data": {
            "text/plain": [
              "0"
            ]
          },
          "metadata": {
            "tags": []
          },
          "execution_count": 39
        }
      ]
    },
    {
      "cell_type": "code",
      "metadata": {
        "colab": {
          "base_uri": "https://localhost:8080/"
        },
        "id": "pbrpcqfuZ480",
        "outputId": "f93a3581-b3fb-4211-9cf1-49f2071845bb"
      },
      "source": [
        "g.__next__()"
      ],
      "execution_count": 40,
      "outputs": [
        {
          "output_type": "execute_result",
          "data": {
            "text/plain": [
              "1"
            ]
          },
          "metadata": {
            "tags": []
          },
          "execution_count": 40
        }
      ]
    },
    {
      "cell_type": "code",
      "metadata": {
        "colab": {
          "base_uri": "https://localhost:8080/"
        },
        "id": "5Qg1p55lZ6FG",
        "outputId": "4ab8d5fc-184d-4054-c93b-aeb836ac7fc2"
      },
      "source": [
        "g.__next__()"
      ],
      "execution_count": 41,
      "outputs": [
        {
          "output_type": "execute_result",
          "data": {
            "text/plain": [
              "2"
            ]
          },
          "metadata": {
            "tags": []
          },
          "execution_count": 41
        }
      ]
    },
    {
      "cell_type": "code",
      "metadata": {
        "colab": {
          "base_uri": "https://localhost:8080/",
          "height": 169
        },
        "id": "OfmAa0n5Z7Ai",
        "outputId": "03a390a5-5181-42a0-b9a6-a7490b0b47f3"
      },
      "source": [
        "g.__next__()"
      ],
      "execution_count": 42,
      "outputs": [
        {
          "output_type": "error",
          "ename": "StopIteration",
          "evalue": "ignored",
          "traceback": [
            "\u001b[0;31m---------------------------------------------------------------------------\u001b[0m",
            "\u001b[0;31mStopIteration\u001b[0m                             Traceback (most recent call last)",
            "\u001b[0;32m<ipython-input-42-42e506b10868>\u001b[0m in \u001b[0;36m<module>\u001b[0;34m()\u001b[0m\n\u001b[0;32m----> 1\u001b[0;31m \u001b[0mg\u001b[0m\u001b[0;34m.\u001b[0m\u001b[0m__next__\u001b[0m\u001b[0;34m(\u001b[0m\u001b[0;34m)\u001b[0m\u001b[0;34m\u001b[0m\u001b[0;34m\u001b[0m\u001b[0m\n\u001b[0m",
            "\u001b[0;31mStopIteration\u001b[0m: "
          ]
        }
      ]
    },
    {
      "cell_type": "markdown",
      "metadata": {
        "id": "6EdVUN8saNLZ"
      },
      "source": [
        "- **yield**를 사용하면 값을 함수 바깥으로 전달하면서 코드 실행을 함수 바깥에 양보  \r\n",
        "yield는 현재 함수를 잠시 중단하고 함수 바깥의 코드가 다시 실행되도록 함. (return 느낌?)"
      ]
    },
    {
      "cell_type": "markdown",
      "metadata": {
        "id": "UPK2vqYBavRW"
      },
      "source": [
        "**3. 한줄 조건문**"
      ]
    },
    {
      "cell_type": "code",
      "metadata": {
        "id": "ODhu7zxNZ9nC"
      },
      "source": [
        ""
      ],
      "execution_count": null,
      "outputs": []
    }
  ]
}